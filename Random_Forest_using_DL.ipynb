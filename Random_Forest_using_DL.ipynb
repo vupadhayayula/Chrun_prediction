{
  "nbformat": 4,
  "nbformat_minor": 0,
  "metadata": {
    "colab": {
      "provenance": []
    },
    "kernelspec": {
      "name": "python3",
      "display_name": "Python 3"
    },
    "language_info": {
      "name": "python"
    }
  },
  "cells": [
    {
      "cell_type": "code",
      "source": [
        "import pandas as pd\n",
        "import numpy as np\n",
        "import random\n",
        "import tensorflow as tf\n",
        "from tensorflow import keras\n",
        "from tensorflow.keras import layers\n",
        "from sklearn.model_selection import train_test_split\n",
        "from sklearn.preprocessing import LabelEncoder, StandardScaler\n",
        "from sklearn.ensemble import RandomForestClassifier\n",
        "from sklearn.metrics import accuracy_score, classification_report, confusion_matrix, roc_auc_score\n",
        "from imblearn.over_sampling import SMOTE\n",
        "import joblib\n",
        "import seaborn as sns\n",
        "import matplotlib.pyplot as plt"
      ],
      "metadata": {
        "id": "t0NfCHqLxohR"
      },
      "execution_count": 1,
      "outputs": []
    },
    {
      "cell_type": "code",
      "source": [
        "def generate_synthetic_data(n=5000):\n",
        "    np.random.seed(42)\n",
        "    random.seed(42)\n",
        "    customer_ids = [f\"CUST{i}\" for i in range(1, n + 1)]\n",
        "    age = np.random.randint(18, 80, n)\n",
        "    gender = np.random.choice(['Male', 'Female'], n)\n",
        "    contract_type = np.random.choice(['Month-to-month', 'One year', 'Two year'], n, p=[0.5, 0.3, 0.2])\n",
        "    monthly_charges = np.round(np.random.uniform(20, 120, n), 2)\n",
        "    tenure = np.random.randint(1, 72, n)\n",
        "    total_charges = np.round(monthly_charges * tenure + np.random.uniform(-10, 10, n), 2)\n",
        "    tech_support = np.random.choice(['Yes', 'No'], n, p=[0.3, 0.7])\n",
        "    internet_service = np.random.choice(['DSL', 'Fiber optic', 'No'], n, p=[0.4, 0.4, 0.2])\n",
        "    paperless_billing = np.random.choice(['Yes', 'No'], n, p=[0.7, 0.3])\n",
        "    payment_method = np.random.choice(['Electronic check', 'Mailed check', 'Bank transfer', 'Credit card'], n)\n",
        "    churn = np.random.choice(['Yes', 'No'], n, p=[0.2, 0.8])\n",
        "    df = pd.DataFrame({\n",
        "        'CustomerID': customer_ids,\n",
        "        'Age': age,\n",
        "        'Gender': gender,\n",
        "        'ContractType': contract_type,\n",
        "        'MonthlyCharges': monthly_charges,\n",
        "        'TotalCharges': total_charges,\n",
        "        'TechSupport': tech_support,\n",
        "        'InternetService': internet_service,\n",
        "        'Tenure': tenure,\n",
        "        'PaperlessBilling': paperless_billing,\n",
        "        'PaymentMethod': payment_method,\n",
        "        'Churn': churn\n",
        "    })\n",
        "    df['AverageMonthlyCharges'] = df['TotalCharges'] / df['Tenure']\n",
        "    df['CustomerLifetimeValue'] = df['Tenure'] * df['MonthlyCharges']\n",
        "    return df\n",
        "data = generate_synthetic_data()\n",
        "print(data.head())"
      ],
      "metadata": {
        "colab": {
          "base_uri": "https://localhost:8080/"
        },
        "id": "COOmwFJnxsao",
        "outputId": "089aeaab-22b4-400b-bd9a-93f043d4dfd3"
      },
      "execution_count": 2,
      "outputs": [
        {
          "output_type": "stream",
          "name": "stdout",
          "text": [
            "  CustomerID  Age  Gender    ContractType  MonthlyCharges  TotalCharges  \\\n",
            "0      CUST1   56    Male        Two year           85.58       1541.69   \n",
            "1      CUST2   69  Female  Month-to-month           69.70       4731.09   \n",
            "2      CUST3   46  Female  Month-to-month           23.21       1111.04   \n",
            "3      CUST4   32  Female        One year           81.23       5680.62   \n",
            "4      CUST5   60  Female        One year           91.62       6142.92   \n",
            "\n",
            "  TechSupport InternetService  Tenure PaperlessBilling     PaymentMethod  \\\n",
            "0          No              No      18              Yes       Credit card   \n",
            "1          No     Fiber optic      68              Yes  Electronic check   \n",
            "2         Yes             DSL      48              Yes      Mailed check   \n",
            "3         Yes     Fiber optic      70              Yes       Credit card   \n",
            "4          No              No      67               No     Bank transfer   \n",
            "\n",
            "  Churn  AverageMonthlyCharges  CustomerLifetimeValue  \n",
            "0    No              85.649444                1540.44  \n",
            "1    No              69.574853                4739.60  \n",
            "2    No              23.146667                1114.08  \n",
            "3   Yes              81.151714                5686.10  \n",
            "4   Yes              91.685373                6138.54  \n"
          ]
        }
      ]
    },
    {
      "cell_type": "code",
      "source": [
        "sns.countplot(x='Churn', data=data)\n",
        "plt.show()"
      ],
      "metadata": {
        "colab": {
          "base_uri": "https://localhost:8080/",
          "height": 449
        },
        "id": "GZYSsTNbyAcY",
        "outputId": "789d417e-981c-45c6-bed4-e9ce520037ac"
      },
      "execution_count": 3,
      "outputs": [
        {
          "output_type": "display_data",
          "data": {
            "text/plain": [
              "<Figure size 640x480 with 1 Axes>"
            ],
            "image/png": "[encoded data removed]"
          },
          "metadata": {}
        }
      ]
    },
    {
      "cell_type": "code",
      "source": [
        "data.fillna(data.select_dtypes(include=[np.number]).mean(), inplace=True)\n",
        "label_encoders = {}\n",
        "for col in ['Gender', 'ContractType', 'TechSupport', 'InternetService', 'PaperlessBilling', 'PaymentMethod', 'Churn']:\n",
        "    le = LabelEncoder()\n",
        "    data[col] = le.fit_transform(data[col])\n",
        "    label_encoders[col] = le\n",
        "X = data.drop(columns=['CustomerID', 'Churn'])\n",
        "y = data['Churn']\n",
        "X_train, X_test, y_train, y_test = train_test_split(X, y, test_size=0.2, random_state=42)\n",
        "smote = SMOTE(random_state=42)\n",
        "X_train, y_train = smote.fit_resample(X_train, y_train)\n",
        "scaler = StandardScaler()\n",
        "X_train = scaler.fit_transform(X_train)\n",
        "X_test = scaler.transform(X_test)"
      ],
      "metadata": {
        "id": "OlTHSrILyFXh"
      },
      "execution_count": 4,
      "outputs": []
    },
    {
      "cell_type": "code",
      "source": [
        "feature_extractor = keras.Sequential([\n",
        "    layers.Dense(64, activation='relu', input_shape=(X_train.shape[1],)),\n",
        "    layers.BatchNormalization(),\n",
        "    layers.Dense(128, activation='relu'),\n",
        "    layers.BatchNormalization(),\n",
        "    layers.Dense(64, activation='relu'),\n",
        "    layers.BatchNormalization(),\n",
        "    layers.Dense(32, activation='relu'),\n",
        "    layers.BatchNormalization()\n",
        "])\n",
        "feature_extractor.compile(optimizer='adam', loss='mse')\n",
        "X_train_dl = feature_extractor.predict(X_train, batch_size=32)\n",
        "X_test_dl = feature_extractor.predict(X_test, batch_size=32)"
      ],
      "metadata": {
        "colab": {
          "base_uri": "https://localhost:8080/"
        },
        "id": "rLI6FSZjyIIe",
        "outputId": "2190d781-40fb-4b14-ff1a-8ecbf3ecf4d8"
      },
      "execution_count": 5,
      "outputs": [
        {
          "output_type": "stream",
          "name": "stderr",
          "text": [
            "/usr/local/lib/python3.11/dist-packages/keras/src/layers/core/dense.py:87: UserWarning: Do not pass an `input_shape`/`input_dim` argument to a layer. When using Sequential models, prefer using an `Input(shape)` object as the first layer in the model instead.\n",
            "  super().__init__(activity_regularizer=activity_regularizer, **kwargs)\n"
          ]
        },
        {
          "output_type": "stream",
          "name": "stdout",
          "text": [
            "\u001b[1m199/199\u001b[0m \u001b[32m━━━━━━━━━━━━━━━━━━━━\u001b[0m\u001b[37m\u001b[0m \u001b[1m1s\u001b[0m 5ms/step\n",
            "\u001b[1m32/32\u001b[0m \u001b[32m━━━━━━━━━━━━━━━━━━━━\u001b[0m\u001b[37m\u001b[0m \u001b[1m0s\u001b[0m 8ms/step\n"
          ]
        }
      ]
    },
    {
      "cell_type": "code",
      "source": [
        "rf_model = RandomForestClassifier(n_estimators=200, max_depth=15, random_state=42)\n",
        "rf_model.fit(X_train_dl, y_train)\n",
        "y_pred = rf_model.predict(X_test_dl)\n",
        "y_pred_proba = rf_model.predict_proba(X_test_dl)[:, 1]\n",
        "accuracy = accuracy_score(y_test, y_pred)\n",
        "roc_auc = roc_auc_score(y_test, y_pred_proba)\n",
        "print(f\"Enhanced Random Forest Accuracy: {accuracy:.4f}\")\n",
        "print(f\"Enhanced ROC AUC Score: {roc_auc:.4f}\")\n",
        "print(\"\\nClassification Report:\\n\", classification_report(y_test, y_pred))\n",
        "print(\"\\nConfusion Matrix:\\n\", confusion_matrix(y_test, y_pred))"
      ],
      "metadata": {
        "colab": {
          "base_uri": "https://localhost:8080/"
        },
        "id": "RlIEB-XSyQDX",
        "outputId": "56034afb-d172-4e92-bf89-e69be68586ee"
      },
      "execution_count": 6,
      "outputs": [
        {
          "output_type": "stream",
          "name": "stdout",
          "text": [
            "Enhanced Random Forest Accuracy: 0.6330\n",
            "Enhanced ROC AUC Score: 0.5095\n",
            "\n",
            "Classification Report:\n",
            "               precision    recall  f1-score   support\n",
            "\n",
            "           0       0.81      0.71      0.76       807\n",
            "           1       0.20      0.31      0.24       193\n",
            "\n",
            "    accuracy                           0.63      1000\n",
            "   macro avg       0.51      0.51      0.50      1000\n",
            "weighted avg       0.69      0.63      0.66      1000\n",
            "\n",
            "\n",
            "Confusion Matrix:\n",
            " [[574 233]\n",
            " [134  59]]\n"
          ]
        }
      ]
    },
    {
      "cell_type": "code",
      "source": [
        "joblib.dump(rf_model, \"dl_random_forest_model.pkl\")\n",
        "feature_extractor.save(\"feature_extractor.h5\")\n",
        "joblib.dump(scaler, \"scaler.pkl\")\n",
        "joblib.dump(label_encoders, \"label_encoders.pkl\")"
      ],
      "metadata": {
        "colab": {
          "base_uri": "https://localhost:8080/"
        },
        "id": "3-upkubiycUI",
        "outputId": "3b9d5057-743a-4d76-d278-95cc0884afb0"
      },
      "execution_count": 7,
      "outputs": [
        {
          "output_type": "stream",
          "name": "stderr",
          "text": [
            "WARNING:absl:You are saving your model as an HDF5 file via `model.save()` or `keras.saving.save_model(model)`. This file format is considered legacy. We recommend using instead the native Keras format, e.g. `model.save('my_model.keras')` or `keras.saving.save_model(model, 'my_model.keras')`. \n"
          ]
        },
        {
          "output_type": "execute_result",
          "data": {
            "text/plain": [
              "['label_encoders.pkl']"
            ]
          },
          "metadata": {},
          "execution_count": 7
        }
      ]
    },
    {
      "cell_type": "code",
      "source": [
        "rf_model = joblib.load(\"dl_random_forest_model.pkl\")\n",
        "from tensorflow.keras.losses import mse\n",
        "feature_extractor = keras.models.load_model(\"feature_extractor.h5\", custom_objects={'mse': mse})\n",
        "scaler = joblib.load(\"scaler.pkl\")\n",
        "label_encoders = joblib.load(\"label_encoders.pkl\")\n",
        "new_customer = pd.DataFrame({\n",
        "    'Age': [30],\n",
        "    'Gender': ['Male'],\n",
        "    'ContractType': ['Month-to-month'],\n",
        "    'MonthlyCharges': [70.5],\n",
        "    'TotalCharges': [850],\n",
        "    'TechSupport': ['No'],\n",
        "    'InternetService': ['Fiber optic'],\n",
        "    'Tenure': [12],\n",
        "    'PaperlessBilling': ['Yes'],\n",
        "    'PaymentMethod': ['Electronic check'],\n",
        "    'AverageMonthlyCharges': [70.5],\n",
        "    'CustomerLifetimeValue': [70.5 * 12]\n",
        "})\n",
        "for col in ['Gender', 'ContractType', 'TechSupport', 'InternetService', 'PaperlessBilling', 'PaymentMethod']:\n",
        "    new_customer[col] = label_encoders[col].transform(new_customer[col])\n",
        "new_customer_scaled = scaler.transform(new_customer)\n",
        "new_customer_dl = feature_extractor.predict(new_customer_scaled)\n",
        "churn_prediction = rf_model.predict(new_customer_dl)\n",
        "churn_probability = rf_model.predict_proba(new_customer_dl)[:, 1]\n",
        "print(f\"Churn Prediction: {'Yes' if churn_prediction[0] == 1 else 'No'}\")\n",
        "print(f\"Churn Probability: {churn_probability[0]:.2f}\")"
      ],
      "metadata": {
        "colab": {
          "base_uri": "https://localhost:8080/"
        },
        "id": "EZfbIn7uyh0U",
        "outputId": "9a2806da-53e1-4835-9d95-410217eb2fc5"
      },
      "execution_count": 10,
      "outputs": [
        {
          "output_type": "stream",
          "name": "stderr",
          "text": [
            "WARNING:absl:Compiled the loaded model, but the compiled metrics have yet to be built. `model.compile_metrics` will be empty until you train or evaluate the model.\n"
          ]
        },
        {
          "output_type": "stream",
          "name": "stdout",
          "text": [
            "\u001b[1m1/1\u001b[0m \u001b[32m━━━━━━━━━━━━━━━━━━━━\u001b[0m\u001b[37m\u001b[0m \u001b[1m0s\u001b[0m 144ms/step\n",
            "Churn Prediction: No\n",
            "Churn Probability: 0.36\n"
          ]
        }
      ]
    }
  ]
}